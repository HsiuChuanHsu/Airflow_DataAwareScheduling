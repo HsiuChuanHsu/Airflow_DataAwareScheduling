{
 "cells": [
  {
   "cell_type": "code",
   "execution_count": 6,
   "metadata": {},
   "outputs": [],
   "source": [
    "from datetime import datetime\n",
    "import json\n",
    "import time\n",
    "import random"
   ]
  },
  {
   "cell_type": "code",
   "execution_count": 7,
   "metadata": {},
   "outputs": [
    {
     "name": "stdout",
     "output_type": "stream",
     "text": [
      "Produced message: {'data_type': 'type2', 'timestamp': '2024-12-05T17:13:52.783523'}\n",
      "Produced message: {'data_type': 'type2', 'timestamp': '2024-12-05T17:13:57.788784'}\n",
      "Produced message: {'data_type': 'type1', 'timestamp': '2024-12-05T17:14:02.796665'}\n",
      "Produced message: {'data_type': 'type2', 'timestamp': '2024-12-05T17:14:07.800456'}\n",
      "Produced message: {'data_type': 'type1', 'timestamp': '2024-12-05T17:14:12.802560'}\n"
     ]
    },
    {
     "ename": "KeyboardInterrupt",
     "evalue": "",
     "output_type": "error",
     "traceback": [
      "\u001b[0;31m---------------------------------------------------------------------------\u001b[0m",
      "\u001b[0;31mKeyboardInterrupt\u001b[0m                         Traceback (most recent call last)",
      "Cell \u001b[0;32mIn[7], line 25\u001b[0m\n\u001b[1;32m     14\u001b[0m \u001b[38;5;66;03m# # Produce message\u001b[39;00m\n\u001b[1;32m     15\u001b[0m \u001b[38;5;66;03m# producer.produce(\u001b[39;00m\n\u001b[1;32m     16\u001b[0m \u001b[38;5;66;03m#     'test-topic',\u001b[39;00m\n\u001b[0;32m   (...)\u001b[0m\n\u001b[1;32m     21\u001b[0m \u001b[38;5;66;03m# # Flush to ensure delivery\u001b[39;00m\n\u001b[1;32m     22\u001b[0m \u001b[38;5;66;03m# producer.flush()\u001b[39;00m\n\u001b[1;32m     24\u001b[0m \u001b[38;5;28mprint\u001b[39m(\u001b[38;5;124mf\u001b[39m\u001b[38;5;124m'\u001b[39m\u001b[38;5;124mProduced message: \u001b[39m\u001b[38;5;132;01m{\u001b[39;00mmessage\u001b[38;5;132;01m}\u001b[39;00m\u001b[38;5;124m'\u001b[39m)\n\u001b[0;32m---> 25\u001b[0m \u001b[43mtime\u001b[49m\u001b[38;5;241;43m.\u001b[39;49m\u001b[43msleep\u001b[49m\u001b[43m(\u001b[49m\u001b[38;5;241;43m5\u001b[39;49m\u001b[43m)\u001b[49m  \u001b[38;5;66;03m# Wait 1 second between messages\u001b[39;00m\n",
      "\u001b[0;31mKeyboardInterrupt\u001b[0m: "
     ]
    }
   ],
   "source": [
    "# Sample data types\n",
    "data_types = ['type1', 'type2']\n",
    "\n",
    "while True:\n",
    "    # Create message data\n",
    "    message = {\n",
    "        'data_type': random.choice(data_types),\n",
    "        'timestamp': datetime.now().isoformat(),\n",
    "    }\n",
    "    \n",
    "    # Convert message to JSON and encode as UTF-8\n",
    "    message_json = json.dumps(message)\n",
    "    \n",
    "    # # Produce message\n",
    "    # producer.produce(\n",
    "    #     'test-topic',\n",
    "    #     value=message_json.encode('utf-8'),\n",
    "    #     callback=delivery_report\n",
    "    # )\n",
    "    \n",
    "    # # Flush to ensure delivery\n",
    "    # producer.flush()\n",
    "    \n",
    "    print(f'Produced message: {message}')\n",
    "    time.sleep(5)  # Wait 1 second between messages"
   ]
  },
  {
   "cell_type": "code",
   "execution_count": null,
   "metadata": {},
   "outputs": [],
   "source": []
  }
 ],
 "metadata": {
  "kernelspec": {
   "display_name": ".set",
   "language": "python",
   "name": "python3"
  },
  "language_info": {
   "codemirror_mode": {
    "name": "ipython",
    "version": 3
   },
   "file_extension": ".py",
   "mimetype": "text/x-python",
   "name": "python",
   "nbconvert_exporter": "python",
   "pygments_lexer": "ipython3",
   "version": "3.13.0"
  }
 },
 "nbformat": 4,
 "nbformat_minor": 2
}
